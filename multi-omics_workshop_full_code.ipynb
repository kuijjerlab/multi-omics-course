{
 "cells": [
  {
   "cell_type": "markdown",
   "id": "f17c0150-0620-4e66-bfc4-59e3aae7f916",
   "metadata": {},
   "source": [
    "# Workshop: Modeling and comparing brain cancer regulatory networks\n",
    "\n",
    "In this workshop, you will learn how to model and analyze PANDA networks with the netZooR package. As a use case, we will compare primary brain cancers with recurrent brain cancer. The latter means a recurrence after removal of the primary tumor. Recurrent tumors are often more aggressive, as they arise from cells that resisted treatment. With network analysis, we aim to understand the regulatory mechanisms involved in this.\n",
    "\n",
    "In **Module 1**, you will learn to model a regulatory network with PANDA. We will start with investigating the input motif prior, protein-protein interactions, and expression dataset and make sure to preprocess these datasets correctly so that they can be used with PANDA. Then, we will run PANDA on the complete dataset that includes both primary tumors and recurrences, to model an aggregate network representing all brain cancer samples as a whole. We will evaluate how changing various parameters in the PANDA program affect the output network.\n",
    "\n",
    "**Module 2** will focus on comparative network analysis. First, we will run PANDA on primary and recurrent tumors separately, so that we obtain one aggregate network representing primary brain cancer and one aggregate network representing recurrent brain cancer. We will extract network edges that are most different between the two aggregate networks and look at the genes and transcription factors that are connected by these edges. We will also investigate some network centrality metrics (TF degrees and gene degrees) to check which TFs/genes differ most. After having compared the aggregate networks, we will apply LIONESS on the complete brain cancer dataset to estimate single-sample networks. We will calculate gene and TF degrees and compare these between the two sample groups of interest with a statistical approach (LIMMA).\n",
    "\n",
    "Before we begin, we need to load the libraries we will use. This may take a few minutes."
   ]
  },
  {
   "cell_type": "code",
   "execution_count": null,
   "id": "be171847-8eae-48de-b40a-c88dbc6b2984",
   "metadata": {
    "scrolled": true,
    "tags": [],
    "vscode": {
     "languageId": "r"
    }
   },
   "outputs": [],
   "source": [
    "rm(list=ls())\n",
    "suppressMessages(library(\"netZooR\"))\n",
    "suppressMessages(library(\"dplyr\"))\n",
    "suppressMessages(library(\"limma\"))\n",
    "suppressMessages(library(\"topGO\"))"
   ]
  },
  {
   "cell_type": "markdown",
   "id": "aeb5eae3-9a6b-4918-a4b2-9d5fe53deafe",
   "metadata": {},
   "source": [
    "## Module 1: Modeling networks with PANDA\n",
    "\n",
    "### *1.1 Examine the input datasets*\n",
    "\n",
    "For this course, we prepared the .RData file input_data.RData that contains the datasets to be used as input in PANDA.\n",
    "\n",
    "**Q1.** Load this file into R. What objects/variable are read in? Take a look at what is inside these objects, for example with the `head()` and `str()` functions. What do you think the different objects represent?"
   ]
  },
  {
   "cell_type": "code",
   "execution_count": null,
   "id": "6592d5d8-4c27-4dc7-9f63-adcf55e341e1",
   "metadata": {
    "scrolled": true,
    "tags": [],
    "vscode": {
     "languageId": "r"
    }
   },
   "outputs": [],
   "source": [
    "load(\"input_data.RData\")\n",
    "ls()"
   ]
  },
  {
   "cell_type": "markdown",
   "id": "2827bf05-3800-4346-b17d-cb52bbe032c8",
   "metadata": {},
   "source": [
    "\n",
    "PANDA's input consists of three data types. Below is some information on the datasets that we prepared for this workshop:\n",
    "\n",
    "1. `prior` A \"prior\" regulatory network of putative TF-gene interactions. Here, we will be working with a motif prior that we previously built by scanning known TF motifs to promoter regions in the human genome. In this file, the first column indicates the TF, the second column the target gene, and the third column a \"1\" indicating a putative interaction.\n",
    "\n",
    "2. `exp` Gene expression data. Gene expression data and gene annotations were downloaded from the Gene Expression Omnibus (GEO), accession ID GSE62153. This dataset contains gene expression data obtained from microarrays that were used to profile primary and recurrent brain cancer. These data were downloaded with the R package GEOquery and then normalized and log transformed. Rows indicate probe IDs and columns sample names.\n",
    "\n",
    "3. `ppi` Potential protein-protein interactions (PPI) between TFs (optional). PPI data is optional in PANDA. Here, we downloaded data from StringDb, which contains scores in the range of [0,1000] indicating potential PPIs. We filtered these for TFs present in the motif prior and transformed scores to scores [0,1]. The first column indicates a TF, the second the TF it binds, and the third the interaction score.\n",
    "\n",
    "Due to the message passing nature of PANDA, running the method on genome-wide data can be quite slow (depending on the available computing resources). We generally recommend to run PANDA on genome-wide data (i.e. including all genes for which expression data is available). However, to ensure it is feasible to run PANDA and explore its output multiple times during the limited time frame of this workshop, we subsetted the expression data to the so-called L1000 genes—978 \"landmark\" genes that should capture most of the variability in the human genome (see https://www.ncbi.nlm.nih.gov/pmc/articles/PMC5990023/ for more information).\n",
    "\n",
    "Finally, we also included the object `anno` that consists of annotation for the microarray probe identifiers and `clin` that includes clinical features for the patient samples used in this study. These were both obtained from the GEO dataset.\n",
    "\n",
    "Let's examine the input datasets. We start with the motif prior.\n",
    "\n",
    "**Q2.** Are there any duplicate rows in the motif prior? Hint: use the `duplicated()` function"
   ]
  },
  {
   "cell_type": "code",
   "execution_count": null,
   "id": "de1f9840-695e-4593-89f1-e41deddc09dc",
   "metadata": {
    "scrolled": true,
    "tags": [],
    "vscode": {
     "languageId": "r"
    }
   },
   "outputs": [],
   "source": [
    "which(duplicated(prior))"
   ]
  },
  {
   "cell_type": "markdown",
   "id": "1103a964-dc5f-4669-8813-c36c34f8622a",
   "metadata": {},
   "source": [
    "**Q3.** How many unique TFs are there in the motif data?"
   ]
  },
  {
   "cell_type": "code",
   "execution_count": null,
   "id": "5b5489ab-3909-44a6-9e48-1994a4fb5ef3",
   "metadata": {
    "scrolled": true,
    "vscode": {
     "languageId": "r"
    }
   },
   "outputs": [],
   "source": [
    "length(unique(prior[,1])) "
   ]
  },
  {
   "cell_type": "markdown",
   "id": "308bab12-830b-49f7-be77-dfbe8a21c226",
   "metadata": {},
   "source": [
    "**Q4.** How many genes does each TF target on average?"
   ]
  },
  {
   "cell_type": "code",
   "execution_count": null,
   "id": "77623040-41e6-4dd7-bd0f-99c2289b3aff",
   "metadata": {
    "scrolled": true,
    "vscode": {
     "languageId": "r"
    }
   },
   "outputs": [],
   "source": [
    "nrow(prior)/length(unique(prior[,1]))"
   ]
  },
  {
   "cell_type": "markdown",
   "id": "bfa86a4f-0d1b-492e-886b-cce0af7c5df5",
   "metadata": {},
   "source": [
    "**Q5.** *Bonus*. Make a plot of the degree distribution of the TFs (histogram of the number of genes targeted by each TF). Hint: look into the `table()` and `hist()` functions for a quick way to do this. We expect there to be a lot of TFs that target only a few genes and only a few TFs that target many genes. "
   ]
  },
  {
   "cell_type": "code",
   "execution_count": null,
   "id": "5cdb7d05-8c09-4560-a5ca-ac051bfa9e9d",
   "metadata": {
    "tags": [],
    "vscode": {
     "languageId": "r"
    }
   },
   "outputs": [],
   "source": [
    "hist(table(prior[,1]))"
   ]
  },
  {
   "cell_type": "markdown",
   "id": "9a710944-9af7-40ae-9bc1-17b13e24be42",
   "metadata": {},
   "source": [
    "**Q6.** How many genes are in the motif data?"
   ]
  },
  {
   "cell_type": "code",
   "execution_count": null,
   "id": "de5d2f48-7679-424c-a5fb-2d3578bb8e9f",
   "metadata": {
    "scrolled": true,
    "vscode": {
     "languageId": "r"
    }
   },
   "outputs": [],
   "source": [
    "length(unique(prior[,2]))"
   ]
  },
  {
   "cell_type": "markdown",
   "id": "d341bea2-9f1b-49b0-8365-82652bf5b320",
   "metadata": {},
   "source": [
    "**Q7.** How many TFs target each gene on average?"
   ]
  },
  {
   "cell_type": "code",
   "execution_count": null,
   "id": "43ce38f1-3014-44de-a71b-68c057e3e9cb",
   "metadata": {
    "scrolled": true,
    "vscode": {
     "languageId": "r"
    }
   },
   "outputs": [],
   "source": [
    "nrow(prior)/length(unique(prior[,2]))"
   ]
  },
  {
   "cell_type": "markdown",
   "id": "b9f283bf-fc0f-47e4-a110-eb0b10d74999",
   "metadata": {},
   "source": [
    "**Q8.** Bonus. Look at the degree distribution of the genes. We expect most genes to only be targeted by a few TFs and a few of them to be targeted by many TFs. "
   ]
  },
  {
   "cell_type": "code",
   "execution_count": null,
   "id": "ddb86777-fe52-4fc6-b72b-19bd7b717666",
   "metadata": {
    "tags": [],
    "vscode": {
     "languageId": "r"
    }
   },
   "outputs": [],
   "source": [
    "hist(table(prior[,2]))"
   ]
  },
  {
   "cell_type": "markdown",
   "id": "9c795939-4c0a-4b72-bc92-a90a7f53ea28",
   "metadata": {},
   "source": [
    "**Q9.** The density of a network indicates how many of all possible interactions are edges in the network. What is the original \"density\" of the motif prior network (calculate the percentage of prior interactions)?"
   ]
  },
  {
   "cell_type": "code",
   "execution_count": null,
   "id": "d680d853-4151-4c92-8890-d23b03d89501",
   "metadata": {
    "scrolled": true,
    "vscode": {
     "languageId": "r"
    }
   },
   "outputs": [],
   "source": [
    "nrow(prior)/(length(unique(prior[,1]))*length(unique(prior[,2])))*100"
   ]
  },
  {
   "cell_type": "markdown",
   "id": "362ec593-8081-4ebe-806e-bd524a21dd2f",
   "metadata": {},
   "source": [
    "Let's take a quick look at the PPI data.\n",
    "\n",
    "**Q10.** How many unique TFs are present in the PPI data?"
   ]
  },
  {
   "cell_type": "code",
   "execution_count": null,
   "id": "41200c3d-93ac-4efe-a8d8-430a97a2a5c7",
   "metadata": {
    "scrolled": true,
    "vscode": {
     "languageId": "r"
    }
   },
   "outputs": [],
   "source": [
    "length(unique(c(ppi[,1], ppi[,2]))) "
   ]
  },
  {
   "cell_type": "markdown",
   "id": "8ed02044-782d-4d97-9ca1-7aa82beabc21",
   "metadata": {},
   "source": [
    "**Q11.** What is the average interaction scores for these PPIs?"
   ]
  },
  {
   "cell_type": "code",
   "execution_count": null,
   "id": "6f22b612-5e41-41ec-9a6a-ce947fdf57df",
   "metadata": {
    "scrolled": true,
    "vscode": {
     "languageId": "r"
    }
   },
   "outputs": [],
   "source": [
    "mean(ppi[,3])"
   ]
  },
  {
   "cell_type": "markdown",
   "id": "3b151589-d19d-42b3-ae9e-4db0045b44c1",
   "metadata": {},
   "source": [
    "**Q12.** Bonus. Plot a histogram of all PPI interaction scores."
   ]
  },
  {
   "cell_type": "code",
   "execution_count": null,
   "id": "8e6440e1-e900-4fa7-a91e-784d8eca482f",
   "metadata": {
    "tags": [],
    "vscode": {
     "languageId": "r"
    }
   },
   "outputs": [],
   "source": [
    "hist(table(ppi[,3]))"
   ]
  },
  {
   "cell_type": "markdown",
   "id": "1c2a4c9d-2deb-4498-a325-82efebc65606",
   "metadata": {},
   "source": [
    "Finally, examine the expression data.\n",
    "\n",
    "**Q13.** How many rows are in the expression data?"
   ]
  },
  {
   "cell_type": "code",
   "execution_count": null,
   "id": "399bbedc-7308-4a26-9896-de25d6ec7906",
   "metadata": {
    "scrolled": true,
    "vscode": {
     "languageId": "r"
    }
   },
   "outputs": [],
   "source": [
    "nrow(exp)"
   ]
  },
  {
   "cell_type": "markdown",
   "id": "6f7c7c04-88e4-4e2a-a945-b7aadc99f592",
   "metadata": {},
   "source": [
    "**Q14.** For how many samples do we have expression data available?\n",
    "\n",
    "*Note:* PANDA, like many other network reconstruction approaches, uses co-expression as one of its three input networks. Generally, the more input samples, the more accurate these co-expression measurements will be. While it is difficult to suggest a minimum sample size for running PANDA, as that depends on the biological question of interest, we generally recommend to include at least 10 samples and ideally >20 samples when using data for network modeling."
   ]
  },
  {
   "cell_type": "code",
   "execution_count": null,
   "id": "20720194-449b-4fd2-b9b9-a6d3712910cc",
   "metadata": {
    "scrolled": true,
    "vscode": {
     "languageId": "r"
    }
   },
   "outputs": [],
   "source": [
    "ncol(exp)"
   ]
  },
  {
   "cell_type": "markdown",
   "id": "f642cc33-514e-4867-9315-fdac39e1df54",
   "metadata": {},
   "source": [
    "### *1.2 Preprocessing of the PANDA input data*\n",
    "\n",
    "In PANDA, row names from the gene expression dataset should match names of gene targets in the motif prior (second row in the motif prior). Here, we will convert the microarray probe IDs (ILMN_.....) to gene symbols, as these are used in the motif prior. We will use the annotation data provided in the anno object (see above).\n",
    "\n",
    "**Q15.** How many unique probe IDs are in the annotation? How many unique gene symbols? How do you think this will affect converting probe IDs to gene symbols?"
   ]
  },
  {
   "cell_type": "code",
   "execution_count": null,
   "id": "5f2521dc-91c0-44f7-9c9b-6ac5ce8e9cda",
   "metadata": {
    "scrolled": true,
    "vscode": {
     "languageId": "r"
    }
   },
   "outputs": [],
   "source": [
    "length(unique(anno[,1])) \n",
    "length(unique(anno[,2]))"
   ]
  },
  {
   "cell_type": "markdown",
   "id": "e63cc181-3971-4b30-a912-d0c53264a721",
   "metadata": {},
   "source": [
    "In R, row names must be unique. Therefore, we need to remove duplicated genes from our expression matrix. For this workshop, we will do this by, for each gene, choosing to keep the probe ID that has the highest variance across samples. If you finish early, feel free to revisit this decision and see how it changes the networks predicted by PANDA. To begin, we will calculate the standard deviation of the rows, and connect that to the original expression matrix:"
   ]
  },
  {
   "cell_type": "code",
   "execution_count": null,
   "id": "4bdcb706-cfd0-4e22-936e-64675f08cf61",
   "metadata": {
    "scrolled": true,
    "vscode": {
     "languageId": "r"
    }
   },
   "outputs": [],
   "source": [
    "rowsd <- apply(exp, 1, sd)\n",
    "exp <- cbind(rowsd, exp)"
   ]
  },
  {
   "cell_type": "markdown",
   "id": "4a78a5d1-1451-4fcd-be70-0d60a67a916c",
   "metadata": {},
   "source": [
    "Then, we combine the gene expression data with its annotations. To do so, we will use the `merge()` function, matching the first column of the anno object with row names of exp."
   ]
  },
  {
   "cell_type": "code",
   "execution_count": null,
   "id": "cdf6e810-b3f0-4195-88f3-b793561a411c",
   "metadata": {
    "scrolled": true,
    "vscode": {
     "languageId": "r"
    }
   },
   "outputs": [],
   "source": [
    "exp <- merge(anno, exp, by.x=1, by.y=0)"
   ]
  },
  {
   "cell_type": "markdown",
   "id": "ce5416d1-6387-45ac-b0d8-0da148cd66fa",
   "metadata": {},
   "source": [
    "Let's sort the expression data based on the standard deviation of each probe, so that the most variable entries will be on the top."
   ]
  },
  {
   "cell_type": "code",
   "execution_count": null,
   "id": "1e31ba1a-9817-4ce3-a16f-b1d596368fc5",
   "metadata": {
    "scrolled": true,
    "vscode": {
     "languageId": "r"
    }
   },
   "outputs": [],
   "source": [
    "exp <- exp[order(exp$rowsd, decreasing=T),]"
   ]
  },
  {
   "cell_type": "markdown",
   "id": "ec7a71e3-4d42-4155-ad06-5a7848f94624",
   "metadata": {},
   "source": [
    "Now we can remove duplicate gene symbols with low variance. We can use the `str()` function to see what the `exp` object looks like now."
   ]
  },
  {
   "cell_type": "code",
   "execution_count": null,
   "id": "cf6f385b-4535-4ca1-93cd-ed2714d761ff",
   "metadata": {
    "scrolled": true,
    "vscode": {
     "languageId": "r"
    }
   },
   "outputs": [],
   "source": [
    "idx <- which(duplicated(exp$Gene.symbol))\n",
    "exp <- exp[-idx,]\n",
    "str(exp)"
   ]
  },
  {
   "cell_type": "markdown",
   "id": "0e68288d-f717-449e-a29c-0bb055ce8622",
   "metadata": {},
   "source": [
    "**Q16.** Now substitute the row names of the exp object with gene symbols and then remove the probe ID, gene symbol, and rowsd columns so that the matrix only includes expression data. What are the dimensions of the preprocessed expression dataset?\n",
    "\n",
    "*Note:* Like many other network reconstruction approaches, PANDA uses co-expression as one of its three input networks. The method therefore requires to have, for each gene, at least 3 samples with different values, so that Pearson correlation can be calculated. This is not a problem for the microarray example in this workshop—in fact, we just calculated the standard deviation for each gene and R did not return an error/NA (feel free to check what values are in the `rowsd` object). However, RNA-Seq data often includes genes with the same count across many samples (often, these are genes that are not detected in many samples and thus have counts of 0). Such genes are generally filtered out in the data preprocessing step before network modeling.\n"
   ]
  },
  {
   "cell_type": "code",
   "execution_count": null,
   "id": "c344b41d-d9b6-426b-b44a-95d632cdae12",
   "metadata": {
    "scrolled": true,
    "vscode": {
     "languageId": "r"
    }
   },
   "outputs": [],
   "source": [
    "row.names(exp) <- exp$Gene.symbol\n",
    "exp <- exp[,-c(1:3)]\n",
    "dim(exp)"
   ]
  },
  {
   "cell_type": "markdown",
   "id": "57298c6b-d551-4a5a-885b-98db3e82b4a7",
   "metadata": {},
   "source": [
    "Finally, before running PANDA, we subset our data to only include information common to both the motif prior and the gene expression data (same set of genes) and the motif prior and PPI (same set of TFs). While the PANDA algorithm can also run on data with missing values (e.g. gene targets that are present in the motif prior, but for which no expression data is available), it is generally a more robust approach to match the data prior to running PANDA. Note that subsetting can be done in the netZooR version of PANDA (check ?panda to see the remove.missing.data_type options). However, it is generally good practice to match the data prior to running PANDA, so that you exactly know what goes in and what comes out.\n",
    "\n",
    "**Q17.** How many genes are in common between the motif prior and expression data?\n"
   ]
  },
  {
   "cell_type": "code",
   "execution_count": null,
   "id": "fd5aa92d-5f66-4120-af4c-0490539cc424",
   "metadata": {
    "scrolled": true,
    "vscode": {
     "languageId": "r"
    }
   },
   "outputs": [],
   "source": [
    "length(intersect(prior[,2], row.names(exp)))"
   ]
  },
  {
   "cell_type": "markdown",
   "id": "c85c006b-5f77-4bba-ab09-0353b051dcf8",
   "metadata": {},
   "source": [
    "To do the matching we first find the gene names that are common to both the motif prior and expression data and then filter both to only contain information for these genes."
   ]
  },
  {
   "cell_type": "code",
   "execution_count": null,
   "id": "a45a074e-8c7e-406f-821a-860a1fc30b5b",
   "metadata": {
    "scrolled": true,
    "vscode": {
     "languageId": "r"
    }
   },
   "outputs": [],
   "source": [
    "commonGenes <- intersect(prior[,2], row.names(exp))\n",
    "prior <- prior[which(prior[,2] %in% commonGenes),]\n",
    "exp <- exp[which(rownames(exp) %in% commonGenes),]"
   ]
  },
  {
   "cell_type": "markdown",
   "id": "ea134fb8-4881-4674-a354-d20e4ee5ee17",
   "metadata": {},
   "source": [
    "**Q18.** Now do the same for TFs in the motif prior and PPI data. How many TFs are in common?"
   ]
  },
  {
   "cell_type": "code",
   "execution_count": null,
   "id": "f4115215-9164-4f62-a6bb-270c6c64f142",
   "metadata": {
    "scrolled": true,
    "vscode": {
     "languageId": "r"
    }
   },
   "outputs": [],
   "source": [
    "length(intersect(unique(prior[,1]), unique(c(ppi[,1],ppi[,2])))) # 568\n",
    "commonTFs <- intersect(prior[,1], c(ppi[,1],ppi[,2]))\n",
    "prior <- prior[which(prior[,1] %in% commonTFs),]\n",
    "ppi <- ppi[which(ppi[,1] %in% commonTFs & ppi[,2] %in% commonTFs),]"
   ]
  },
  {
   "cell_type": "markdown",
   "id": "7b07b350-2732-45b3-81c4-4d215869c8ed",
   "metadata": {},
   "source": [
    "**Q19.** What are the dimensions of the subsetted motif prior, PPI, and expression data? How many unique TFs and genes are present in each dataset?"
   ]
  },
  {
   "cell_type": "code",
   "execution_count": null,
   "id": "2e76e1cc-36f2-4a9d-ad4c-4616c685acb4",
   "metadata": {
    "scrolled": true,
    "vscode": {
     "languageId": "r"
    }
   },
   "outputs": [],
   "source": [
    "dim(prior)\n",
    "dim(ppi) \n",
    "dim(exp) \n",
    "length(unique(prior[,1]))\n",
    "length(unique(prior[,2]))\n",
    "length(unique(ppi[,1])) \n",
    "length(unique(ppi[,2])) \n",
    "nrow(exp)"
   ]
  },
  {
   "cell_type": "markdown",
   "id": "9c123712-d3c1-4c38-a0da-8602a5773a7c",
   "metadata": {},
   "source": [
    "### *1.3 Running PANDA*\n",
    "\n",
    "Now that we have all the data in the right format, running PANDA is fairly straightforward:"
   ]
  },
  {
   "cell_type": "code",
   "execution_count": null,
   "id": "22229a9b-01e8-4ce0-89e8-4cd49595c29b",
   "metadata": {
    "scrolled": true,
    "vscode": {
     "languageId": "r"
    }
   },
   "outputs": [],
   "source": [
    "net <- panda(prior, exp, ppi, progress=T, hamming=0.01)"
   ]
  },
  {
   "cell_type": "markdown",
   "id": "88f86221-24f5-4e03-860f-f6310f0c6b9c",
   "metadata": {},
   "source": [
    "Look at the output from `panda()` and answer the following questions:\n",
    "\n",
    "**Q20.** How many message-passing steps did it take for PANDA to converge?"
   ]
  },
  {
   "cell_type": "markdown",
   "id": "df9c299e-dc25-4618-8c77-057e41b4a808",
   "metadata": {},
   "source": [
    "23"
   ]
  },
  {
   "cell_type": "markdown",
   "id": "49aae907-fed3-46a4-b6c2-0545fcc5118d",
   "metadata": {},
   "source": [
    "**Q21.** How long did it take to run? Note that running times will depend on the computational resources that are available."
   ]
  },
  {
   "cell_type": "markdown",
   "id": "0fc2e1a5-a409-4331-94ba-ad925b3018a3",
   "metadata": {
    "jp-MarkdownHeadingCollapsed": true
   },
   "source": []
  },
  {
   "cell_type": "markdown",
   "id": "2fc35a20-7264-4c9e-b287-7f00995bea26",
   "metadata": {},
   "source": [
    "PANDA estimates relationships in three types of networks: (1) regulatory (TF-gene interactions), (2) co-regulatory (gene-gene interactions), (3) co-operativity (TF-TF interactions). These can be accessed with the `slot()` function. In this workshop, we will focus on the regulatory network estimated by PANDA:"
   ]
  },
  {
   "cell_type": "code",
   "execution_count": null,
   "id": "8c5a787e-bb62-4408-b9c0-332e8f2c21c2",
   "metadata": {
    "scrolled": true,
    "vscode": {
     "languageId": "r"
    }
   },
   "outputs": [],
   "source": [
    "RegNet <- slot(net, \"regNet\")"
   ]
  },
  {
   "cell_type": "markdown",
   "id": "d3ddcd01-c837-4c64-919c-7c7d800edca5",
   "metadata": {},
   "source": [
    "Let's visualize this network in a few different ways to get a sense of the information they contain:"
   ]
  },
  {
   "cell_type": "markdown",
   "id": "8245ce3f-0f08-468a-a733-6f6fd9232524",
   "metadata": {},
   "source": [
    "**Q22.** Make a histogram of the edge weights in the regulatory network. Hint: use the `hist()` function."
   ]
  },
  {
   "cell_type": "code",
   "execution_count": null,
   "id": "c35b56d3-aa70-443e-be6e-e33927553cdc",
   "metadata": {
    "tags": [],
    "vscode": {
     "languageId": "r"
    }
   },
   "outputs": [],
   "source": [
    "hist(RegNet,100)"
   ]
  },
  {
   "cell_type": "markdown",
   "id": "d84bad41-252a-4bb3-93bd-47ba80cc52f4",
   "metadata": {},
   "source": [
    "**Q23.** Make a heatmap of the edge weights in the regulatory network. In this heatmap, the TFs will be columns and the genes will be rows."
   ]
  },
  {
   "cell_type": "code",
   "execution_count": null,
   "id": "9dcdda9a-d5b3-45c0-9677-99c14a548abc",
   "metadata": {
    "tags": [],
    "vscode": {
     "languageId": "r"
    }
   },
   "outputs": [],
   "source": [
    "heatmap.2(RegNet, Rowv = FALSE, Colv = FALSE, trace = FALSE, density.info = \"none\")"
   ]
  },
  {
   "cell_type": "markdown",
   "id": "c44284c5-7529-44c5-800d-014e816be6b3",
   "metadata": {},
   "source": [
    "Congratulations on finishing module 1! Feel free to take a short break and/or ask any remaining questions before continuing with module 2.\n",
    "\n",
    "## Module 2: Comparative network analysis\n",
    "\n",
    "### *2.1 Running PANDA on primary and recurrent tumors*\n",
    "\n",
    "In the previous module, we modeled one aggregate regulatory network on the entire expression dataset. Here, we will focus on comparative network analysis between two aggregate networks. To do so, we need to start looking at the clinical data. Clinical features associated with our expression dataset can be found in the `clin` object.\n",
    "\n",
    "**Q24.** Take a look at the `clin` object. Which column contains information on tumor type (primary/recurrent)?"
   ]
  },
  {
   "cell_type": "code",
   "execution_count": null,
   "id": "03a28284-1846-4640-b42f-5bbf2bdf3a5e",
   "metadata": {
    "scrolled": true,
    "vscode": {
     "languageId": "r"
    }
   },
   "outputs": [],
   "source": [
    "head(clin)"
   ]
  },
  {
   "cell_type": "markdown",
   "id": "0d647424-3664-4100-a1c9-d396378410e0",
   "metadata": {},
   "source": [
    "**Q25.** How many primary and how many recurrent tumors does the data contain?\n"
   ]
  },
  {
   "cell_type": "code",
   "execution_count": null,
   "id": "373de83f-350d-4903-a0a0-62c0083054eb",
   "metadata": {
    "scrolled": true,
    "vscode": {
     "languageId": "r"
    }
   },
   "outputs": [],
   "source": [
    "table(clin$type)"
   ]
  },
  {
   "cell_type": "markdown",
   "id": "1d241b8a-1195-4ed5-9c0d-f1cb1e44dc77",
   "metadata": {},
   "source": [
    "Use information from the clinical data to make two expression objects, one for primary and one for recurrent tumors. Then run PANDA on both datasets with default parameters."
   ]
  },
  {
   "cell_type": "code",
   "execution_count": null,
   "id": "e7843277-79dd-4982-90ea-b3565034df52",
   "metadata": {
    "scrolled": true,
    "tags": [],
    "vscode": {
     "languageId": "r"
    }
   },
   "outputs": [],
   "source": [
    "idx_prim <- which(clin$type==\"Primary_GBM\")\n",
    "samples_prim <- row.names(clin[idx_prim,])\n",
    "exp_prim <- exp[,which(colnames(exp) %in% samples_prim)]\n",
    "net_prim=panda(prior, exp_prim, ppi, progress = T)\n",
    "RegNet_prim=slot(net_prim, 'regNet')\n",
    "\n",
    "idx_recur <- which(clin$type==\"Recurrent_GBM\")\n",
    "samples_recur <- row.names(clin[idx_recur,])\n",
    "exp_recur <- exp[,which(colnames(exp) %in% samples_recur)]\n",
    "net_recur=panda(prior, exp_recur, ppi, progress = T)\n",
    "RegNet_recur=slot(net_recur, 'regNet')"
   ]
  },
  {
   "cell_type": "markdown",
   "id": "2b0eeb36-e820-4a1e-b99d-ea55ffba6e2f",
   "metadata": {},
   "source": [
    "**Q26.** How many message-passing steps did it take for PANDA to converge on the primary tumors? And on the recurrences?"
   ]
  },
  {
   "cell_type": "markdown",
   "id": "92147bc9-3c5d-48a2-9388-ab7de7d50d38",
   "metadata": {},
   "source": []
  },
  {
   "cell_type": "markdown",
   "id": "2c58c3a6-0c7b-4339-ba96-72faaac61efe",
   "metadata": {},
   "source": [
    "### *2.2 Comparing two PANDA networks*\n",
    "\n",
    "Now we are ready to compare the two PANDA networks. The `panda()` function in netZooR outputs each network of a matrix, with TFs in rows and their target genes in columns. To easily visualize differential edges and the TFs and genes connected to them, we will transform this into an edgelist using the code below. We first combine the TF and gene names in the same order as the `c()` function in R unlists matrices, and convert that into a `data.frame`."
   ]
  },
  {
   "cell_type": "code",
   "execution_count": null,
   "id": "2256c1ca-6e9f-4f80-ba91-5d8f3d375a1f",
   "metadata": {
    "scrolled": true,
    "vscode": {
     "languageId": "r"
    }
   },
   "outputs": [],
   "source": [
    "tfnamerep <- rep(row.names(RegNet_prim), ncol(RegNet_prim))\n",
    "genenamerep <- rep(colnames(RegNet_prim), each=nrow(RegNet_prim))\n",
    "edgelist <- cbind(tfnamerep, genenamerep)\n",
    "edgelist <- as.data.frame(edgelist)"
   ]
  },
  {
   "cell_type": "markdown",
   "id": "67b29f7d-38be-411a-93ea-e99c72cd0afc",
   "metadata": {},
   "source": [
    "Now, we are ready to attach the edges in the primary and recurrent networks to this edge list."
   ]
  },
  {
   "cell_type": "code",
   "execution_count": null,
   "id": "d5180a81-b03d-4601-8839-ecb436b674b2",
   "metadata": {
    "scrolled": true,
    "vscode": {
     "languageId": "r"
    }
   },
   "outputs": [],
   "source": [
    "edgelist <- cbind(edgelist, c(RegNet_prim), c(RegNet_recur))\n",
    "colnames(edgelist) <- c(\"TF\",\"Gene\",\"Primary\",\"Recurrent\")"
   ]
  },
  {
   "cell_type": "markdown",
   "id": "09d5e3fa-4a75-4001-b162-f59f1693539b",
   "metadata": {},
   "source": [
    "**Q27.** Visualize edge weights in primary vs recurrent tumors in a scatterplot. Hint: use `plot()`"
   ]
  },
  {
   "cell_type": "code",
   "execution_count": null,
   "id": "12681fe7-fead-430c-a6db-7971f0e24d1e",
   "metadata": {
    "tags": [],
    "vscode": {
     "languageId": "r"
    }
   },
   "outputs": [],
   "source": [
    "plot(edgelist[,3:4], pch=16)"
   ]
  },
  {
   "cell_type": "markdown",
   "id": "ba879ceb-af84-4022-ae9b-ca575858636d",
   "metadata": {},
   "source": [
    "It is often very useful to determine the edges that best define the differences between two networks. In this case, we would like to select edges that are both likely to be \"real\" in a particular network (i.e. have a high edge weight) as well as \"different\" between the two networks. Because the weights of PANDA edges can be thought of as z-score units, edge-weights can be easily converted into probability values. Under this framework, we can multiply the probability that an edge is \"real\" by the probability that it is \"different\" between two networks to get a combined probability score representing whether an edge is both real and different. We can then select edges based on this combined probability score. In our example, we use the PANDA output matrices to select edges that have at least a 75% chance of being both real and different:"
   ]
  },
  {
   "cell_type": "code",
   "execution_count": null,
   "id": "32fff718-99bc-4348-b06d-519dfb57036e",
   "metadata": {
    "scrolled": true,
    "vscode": {
     "languageId": "r"
    }
   },
   "outputs": [],
   "source": [
    "pprim <- pnorm(RegNet_prim)\n",
    "precur <- pnorm(RegNet_recur)\n",
    "prim_spec <- pprim*pnorm(RegNet_prim-RegNet_recur)>0.75\n",
    "recur_spec <- precur*pnorm(RegNet_recur-RegNet_prim)>0.75"
   ]
  },
  {
   "cell_type": "markdown",
   "id": "96f90610-7370-4545-a1ce-664c44ba4c8c",
   "metadata": {},
   "source": [
    "We can then port these to our edgelist as follows:"
   ]
  },
  {
   "cell_type": "code",
   "execution_count": null,
   "id": "06896580-b3c2-4260-9e1b-a87835a14960",
   "metadata": {
    "scrolled": true,
    "vscode": {
     "languageId": "r"
    }
   },
   "outputs": [],
   "source": [
    "idx_prim <- which(c(prim_spec))\n",
    "idx_recur <- which(c(recur_spec))\n",
    "prim_spec_edges <- edgelist[idx_prim,]\n",
    "recur_spec_edges <- edgelist[idx_recur,]"
   ]
  },
  {
   "cell_type": "markdown",
   "id": "ff8a13ac-a81b-4d37-a7e1-ada9fddc783d",
   "metadata": {},
   "source": [
    "**Q28.** Visualize these tumor type-specific edges on top of the scatterplot you made in Q6. Hint: use `point()` to overlay points of different colors on the scatterplot."
   ]
  },
  {
   "cell_type": "code",
   "execution_count": null,
   "id": "7270f12b-fb07-4bfb-b502-b23efcf67ec0",
   "metadata": {
    "tags": [],
    "vscode": {
     "languageId": "r"
    }
   },
   "outputs": [],
   "source": [
    "plot(edgelist[,3:4], pch=16)\n",
    "points(prim_spec_edges[,3:4], pch=16, col=\"blue\")\n",
    "points(recur_spec_edges[,3:4], pch=16, col=\"red\")"
   ]
  },
  {
   "cell_type": "markdown",
   "id": "670a8f12-ef36-4a25-b8ed-70ad7f547bd5",
   "metadata": {},
   "source": [
    "Let's take a look at the top differential edges.\n",
    "\n",
    "**Q29.** How many edges are specific to the primary network? And to the recurrent network?"
   ]
  },
  {
   "cell_type": "code",
   "execution_count": null,
   "id": "b72ccff5-3fb0-4a7f-9f6d-8b04ee45ebe5",
   "metadata": {
    "scrolled": true,
    "vscode": {
     "languageId": "r"
    }
   },
   "outputs": [],
   "source": [
    "nrow(prim_spec_edges)\n",
    "nrow(recur_spec_edges)"
   ]
  },
  {
   "cell_type": "markdown",
   "id": "629cefff-5c3b-4083-b826-4c5affb31bb0",
   "metadata": {},
   "source": [
    "Calculating the TF out-degree and gene in-degree is easiest to do on the direct output from the `panda()` function in netZooR.\n",
    "\n",
    "**Q30.** The degree is defined by the sum of all edge weights, either pointing from a TF (TF out-degree), or pointing to a gene (gene in-degree). Calculate TF and gene degrees in each network. What is the range of out-degree values in each network? And of the in-degree? Hint: you can use the `apply()` and `sum()` functions in R to calculate degrees (similar to what we used above to calculate the standard deviation across rows in a matrix).\n",
    "\n",
    "move up to the first time we mention degree distribution"
   ]
  },
  {
   "cell_type": "code",
   "execution_count": null,
   "id": "072aaefa-a716-4a65-9a2a-71993106cbbc",
   "metadata": {
    "scrolled": true,
    "vscode": {
     "languageId": "r"
    }
   },
   "outputs": [],
   "source": [
    "outdegree_prim <- apply(RegNet_prim, 1, sum)\n",
    "outdegree_recur <- apply(RegNet_recur, 1, sum)\n",
    "indegree_prim <- apply(RegNet_prim, 2, sum)\n",
    "indegree_recur <- apply(RegNet_recur, 2, sum)\n",
    "min(outdegree_prim); min(outdegree_recur) # outdegree range ~[-300, 1900]\n",
    "max(outdegree_prim); max(outdegree_recur)\n",
    "min(indegree_prim); min(indegree_recur) # indegree range ~[-120, 400]\n",
    "max(indegree_prim); max(indegree_recur)"
   ]
  },
  {
   "cell_type": "markdown",
   "id": "95de990e-f36c-4c3f-9383-8f9a2003ce64",
   "metadata": {},
   "source": [
    "**Q31.** Calculate degree difference and return the top 3 TFs and target genes with highest difference between primary and recurrent. Look up some of these genes and their functions in GeneCards (https://www.genecards.org/). Do you find any interesting TFs/genes that could play a role in brain cancer?\n",
    "\n",
    "*Note:* Instead of looking up individual edges and genes, it is also possible to use gene set enrichment analysis to check if there are any differentially regulated pathways between your networks of interest. Differences in gene degrees often highlight important dysregulated pathways. We will do this to analyze the LIONESS results (see bonus section below). If you end the workshop early, feel free to see if you can run the enrichment analysis in the aggregate networks as well."
   ]
  },
  {
   "cell_type": "code",
   "execution_count": null,
   "id": "0b7f9458-8e7b-4ee2-9b68-5b34176dd3d7",
   "metadata": {
    "scrolled": true,
    "vscode": {
     "languageId": "r"
    }
   },
   "outputs": [],
   "source": [
    "out_diff <- outdegree_prim-outdegree_recur\n",
    "names(out_diff[order(out_diff, decreasing=T)])[1:3] # \"NKX2-5\" \"MIXL1\"  \"VAX1\" (primary)\n",
    "names(out_diff[order(out_diff, decreasing=F)])[1:3] # \"DNMT1\" \"NR0B1\" \"KLF6\" (recurrent)\n",
    "in_diff <- indegree_prim-indegree_recur\n",
    "names(in_diff[order(in_diff, decreasing=T)])[1:3] # \"RPN1\"  \"EPHA3\" \"MMP2\" (primary)\n",
    "names(in_diff[order(in_diff, decreasing=F)])[1:3]"
   ]
  },
  {
   "cell_type": "markdown",
   "id": "7c711c23",
   "metadata": {},
   "source": [
    "### *BONUS MODULE 1: Exploring PANDA's hyperparameters*\n",
    "\n",
    "There are several parameters in the `panda()` function that are worth investigating. Let's try running PANDA for a few different settings for these parameters to see how it affects the output."
   ]
  },
  {
   "cell_type": "markdown",
   "id": "784082b9-5f20-443c-a78e-3924464b5946",
   "metadata": {},
   "source": [
    "**Q32.** Run `panda()` as above except with `hamming=0.1`.\n",
    "1. How many message passing iterations were used?\n",
    "2. How long did the algorithm run?"
   ]
  },
  {
   "cell_type": "code",
   "execution_count": null,
   "id": "c8e9b44b-03ce-4393-a2d3-01bf9e2bbfda",
   "metadata": {
    "scrolled": true,
    "vscode": {
     "languageId": "r"
    }
   },
   "outputs": [],
   "source": [
    "net=panda(prior, exp, ppi, progress = T, hamming=0.1)"
   ]
  },
  {
   "cell_type": "markdown",
   "id": "c2792744-dc05-4048-9d3a-7c4e28a12e01",
   "metadata": {},
   "source": []
  },
  {
   "cell_type": "markdown",
   "id": "1c4f6b8e-6c91-48f4-8a15-0221357f95b8",
   "metadata": {},
   "source": [
    "**Q33.** Run `panda()` as above in section 1.3, except with `alpha=0.3`.\n",
    "1. How many message passing iterations were used?\n",
    "2. How long did the algorithm run?\n",
    "3. Make a histogram of the regulatory network weights predicted with `alpha=0.3`. Edge weights from PANDA often have a \"bimodal\" distribution, meaning that two peaks can be observed in the distribution. Generally, most edges in the motif prior obtain high weights after message passing, while edges that are not in the motif prior obtain low weights. How does the \"overlap\" of the two modes of the distribution change in this PANDA run compared to the original PANDA run with the default `alpha=0.1`?\n",
    "4. Spend a bit of time playing with the alpha parameter and investigate how it affects the predicted regulatory network edge weights."
   ]
  },
  {
   "cell_type": "code",
   "execution_count": null,
   "id": "257d5fc3-d11f-4c77-94bc-465077fedd43",
   "metadata": {
    "scrolled": true,
    "vscode": {
     "languageId": "r"
    }
   },
   "outputs": [],
   "source": [
    "net=panda(prior, exp, ppi, progress = T, hamming=0.01, alpha=0.3)"
   ]
  },
  {
   "cell_type": "markdown",
   "id": "7cae3f79-42d0-433c-b159-7b4f6f917cfd",
   "metadata": {},
   "source": []
  },
  {
   "cell_type": "code",
   "execution_count": null,
   "id": "ed39f296-4b0c-40d0-b161-b61afaaa4928",
   "metadata": {
    "tags": [],
    "vscode": {
     "languageId": "r"
    }
   },
   "outputs": [],
   "source": [
    "RegNet=slot(net, 'regNet')\n",
    "hist(RegNet,100)"
   ]
  },
  {
   "cell_type": "code",
   "execution_count": null,
   "id": "8cafbc75-27d4-4db9-af5e-83b3189aa8c3",
   "metadata": {
    "scrolled": true,
    "tags": [],
    "vscode": {
     "languageId": "r"
    }
   },
   "outputs": [],
   "source": [
    "for(i in c(0.05, 0.1, 0.2, 0.4, 0.8)){\n",
    "\tnet=panda(prior, exp, ppi, progress = T, hamming=0.1, alpha=i)\n",
    "\tRegNet=slot(net, 'regNet')\n",
    "\thist(RegNet,100, main=paste(\"alpha=\", i, sep=\"\"))\n",
    "\tprint(i)\n",
    "}"
   ]
  },
  {
   "cell_type": "markdown",
   "id": "cef95507",
   "metadata": {},
   "source": [
    "Some more explanation"
   ]
  },
  {
   "cell_type": "markdown",
   "id": "6e2561bb-9df5-4a4e-979f-3dc93b627d28",
   "metadata": {},
   "source": [
    "### *BONUS MODULE 2: Modeling patient-specific networks with LIONESS*\n",
    "\n",
    "While comparing two aggregate networks can point to differential regulation between primary tumors and recurrences, modeling and analyzing patient-specific networks is more powerful as it captures patient heterogeneity. Let's therefore model networks for all patients in this dataset. This can be done as follows:"
   ]
  },
  {
   "cell_type": "code",
   "execution_count": null,
   "id": "09628464-a693-40da-bad5-e23a096bd5fa",
   "metadata": {
    "scrolled": true,
    "vscode": {
     "languageId": "r"
    }
   },
   "outputs": [],
   "source": [
    "lionessRes <- lioness(exp, prior, ppi, progress=F, hamming=0.05)"
   ]
  },
  {
   "cell_type": "markdown",
   "id": "5a1335b9-c644-4eac-8f4e-cc001c197ba1",
   "metadata": {},
   "source": [
    "This should run in about 5-10 minutes, so feel free to take a break until the networks are ready.\n",
    "\n",
    "*Note:* We set `progress=F` to not output information on the message passing iterations this time and keep the printed output on the screen clean. In addition, for this tutorial we set `hamming=0.05` to stop network convergence a bit early, as with default settings it would take too much time to model all networks for the workshop. However, in future applications of PANDA+LIONESS to your own data, default options are recommended.\n",
    "\n",
    "Let's have a look at the LIONESS output. This is an object of the \"list\" class.\n",
    "\n",
    "**Q34.** How long is this list?"
   ]
  },
  {
   "cell_type": "code",
   "execution_count": null,
   "id": "6166dd9e-f807-487f-b8d3-8d7934b6c091",
   "metadata": {
    "scrolled": true,
    "vscode": {
     "languageId": "r"
    }
   },
   "outputs": [],
   "source": [
    "length(lionessRes)"
   ]
  },
  {
   "cell_type": "markdown",
   "id": "841ae0ca-730a-4681-a0f6-b1b69c673f97",
   "metadata": {},
   "source": [
    "**Q35.** Check the first element in the list. Hint: this can be access using `lionessRes[[1]]`. What are the dimensions of this element and what does the data look like? What do you think this element represents?"
   ]
  },
  {
   "cell_type": "code",
   "execution_count": null,
   "id": "e2ce7250-5f6c-4832-9704-419e13861b0e",
   "metadata": {
    "scrolled": true,
    "vscode": {
     "languageId": "r"
    }
   },
   "outputs": [],
   "source": [
    "dim(lionessRes[[1]]) # 568 901\n",
    "lionessRes[[1]][1:4,1:5]"
   ]
  },
  {
   "cell_type": "markdown",
   "id": "6c41759e-5d41-40c8-8079-3871ef846a4a",
   "metadata": {},
   "source": [
    "**Q36.** Calculate the gene degree for the first sample and visualize this in a histogram. How are these degrees distributed?"
   ]
  },
  {
   "cell_type": "code",
   "execution_count": null,
   "id": "6d9078e7-04e0-4263-a11c-c49ac780a6c2",
   "metadata": {
    "scrolled": true,
    "vscode": {
     "languageId": "r"
    }
   },
   "outputs": [],
   "source": [
    "indegree_sample1 <- apply(lionessRes[[1]], 2, sum)\n",
    "hist(indegree_sample1, breaks=100)"
   ]
  },
  {
   "cell_type": "markdown",
   "id": "91aeabe2-6cb8-4c70-851b-4d8927cdded2",
   "metadata": {},
   "source": [
    "### *2.4 Comparative network analysis with LIONESS*\n",
    "\n",
    "We will perform a comparative analysis on gene degrees with LIMMA. Let's start by calculating the indegrees with the code below. First, we will define a new function that will calculate the indegree by applying the sum function across columns:"
   ]
  },
  {
   "cell_type": "code",
   "execution_count": null,
   "id": "acb9546a-ba3b-4aab-b4d6-de3542801491",
   "metadata": {
    "scrolled": true,
    "vscode": {
     "languageId": "r"
    }
   },
   "outputs": [],
   "source": [
    "indegreefun <- function(x, ...){\n",
    "\tapply(x, 2, sum)\n",
    "}"
   ]
  },
  {
   "cell_type": "markdown",
   "id": "d8673e48-a511-4f2b-90a4-2c4dfe4edd88",
   "metadata": {},
   "source": [
    "Next, we can apply this function to the `lionessRes` list to obtain the degrees for each sample, in list format. We do this with the `lapply()` function, which basically applies a function (our `indegreefun()`) to a list:"
   ]
  },
  {
   "cell_type": "code",
   "execution_count": null,
   "id": "eb3e1687-a938-4c00-8fc7-e5974e2dd2a3",
   "metadata": {
    "scrolled": true,
    "vscode": {
     "languageId": "r"
    }
   },
   "outputs": [],
   "source": [
    "indegrees <- lapply(lionessRes, indegreefun)"
   ]
  },
  {
   "cell_type": "markdown",
   "id": "1eff9cdb-d067-43b3-8e1e-ca105fb5587f",
   "metadata": {},
   "source": [
    "Finally, we transform this list into a matrix and add back in the row and column names."
   ]
  },
  {
   "cell_type": "code",
   "execution_count": null,
   "id": "9f213181-6fdd-493e-a261-353afe02de72",
   "metadata": {
    "scrolled": true,
    "vscode": {
     "languageId": "r"
    }
   },
   "outputs": [],
   "source": [
    "indegrees <- matrix(unlist(indegrees),ncol=length(indegrees))\n",
    "row.names(indegrees) <- colnames(lionessRes[[1]])\n",
    "colnames(indegrees) <- colnames(exp)"
   ]
  },
  {
   "cell_type": "markdown",
   "id": "3cb2bef3-494f-4722-b8de-713a00d7353e",
   "metadata": {},
   "source": [
    "**Q37.** Take a look at the dimensions of this matrix and its column and row names. Does it look similar to any of the previous objects you worked with?"
   ]
  },
  {
   "cell_type": "code",
   "execution_count": null,
   "id": "2b816616-9eb1-47eb-87c2-cf2fb48a1351",
   "metadata": {
    "scrolled": true,
    "vscode": {
     "languageId": "r"
    }
   },
   "outputs": [],
   "source": [
    "dim(indegrees)\n",
    "indegrees[1:4,1:5]"
   ]
  },
  {
   "cell_type": "markdown",
   "id": "3a886c67-d69d-4a54-8e15-b7ce1bcc9b23",
   "metadata": {},
   "source": [
    "Now that the input data is ready, let's prepare the input material for LIMMA. LIMMA is very popular for differential expression analysis. As our gene degree data is similar to expression data, we can apply the method on our `indegrees` object. First, we need to design the comparison model that tells the program which groups to compare. We will \"contrast\" the group of recurrences with the group of primary tumors:"
   ]
  },
  {
   "cell_type": "code",
   "execution_count": null,
   "id": "66256ec4-d1e0-43f3-aa3a-b3fc23ef71c7",
   "metadata": {
    "scrolled": true,
    "vscode": {
     "languageId": "r"
    }
   },
   "outputs": [],
   "source": [
    "targets <- cbind(row.names(clin), clin$type)\n",
    "group <- factor(targets[,2])\n",
    "design <- model.matrix(~0+group)\n",
    "cont.matrix <- makeContrasts(recurvsprim = (groupRecurrent_GBM - groupPrimary_GBM), levels = design)"
   ]
  },
  {
   "cell_type": "markdown",
   "id": "b4932d13-6c91-4397-90a8-51163075b6a8",
   "metadata": {},
   "source": [
    "**Q38.** Take a look at the `design` and `cont.matrix` objects. What do you think is represented in these objects?\n",
    "\n",
    "*Note:* With LIMMA, various more complex designs are possible, for example to correct for covariates (e.g. features that may confound the results such as the patient's age or sample batch), run comparisons between more than two groups, or time series analysis. This goes beyond the scope of this workshop, but may be good to know about in case you want to analyze a more complex experiment."
   ]
  },
  {
   "cell_type": "markdown",
   "id": "2d9bc6f0-5fd2-44b4-ac26-eda7e608ee4d",
   "metadata": {},
   "source": []
  },
  {
   "cell_type": "markdown",
   "id": "d95107b5-0004-4d27-a2c9-59f6844b34f1",
   "metadata": {},
   "source": [
    "We can now fit the LIMMA model as follows:"
   ]
  },
  {
   "cell_type": "code",
   "execution_count": null,
   "id": "a8cb5f30-b74d-4c16-a1f2-cc657a54d4cd",
   "metadata": {
    "scrolled": true,
    "vscode": {
     "languageId": "r"
    }
   },
   "outputs": [],
   "source": [
    "fit = lmFit(indegrees, design)\n",
    "fit2 = contrasts.fit(fit, cont.matrix)\n",
    "fit2e = eBayes(fit2)\n",
    "toptable<-topTable(fit2e, number=nrow(indegrees), adjust=\"fdr\") \n",
    "colnames(toptable)[1:2] <- c(\"Degree_diff\", \"Avg_degree\")"
   ]
  },
  {
   "cell_type": "markdown",
   "id": "09a51aa2-9cf6-4bd0-af51-d7fac4742ed9",
   "metadata": {},
   "source": [
    "**Q39.** LIMMA sorts the output on the most significant differences. The `adj.P.Val` column contains p-values after correcting for multiple testing. Did we detect any significant differentially regulated genes in this comparison?"
   ]
  },
  {
   "cell_type": "markdown",
   "id": "23d70833-5075-4ab3-ac84-d4aaf424fa9f",
   "metadata": {},
   "source": []
  },
  {
   "cell_type": "markdown",
   "id": "5b14a715-e07b-4904-a89a-34cd5b8c6e66",
   "metadata": {},
   "source": [
    "Even when we might not find significantly differentially regulated genes, we can still look at the top genes to see if there they collectively are enriched for differential regulation between the two sample groups. This can be done with approaches such as Gene Ontology enrichment analysis with the `topgo()` package.\n",
    "\n",
    "First, load the GO terms for Homo Sapiens in R:"
   ]
  },
  {
   "cell_type": "code",
   "execution_count": null,
   "id": "b0c7099f-f61a-47ef-8d3f-e948c8e1941b",
   "metadata": {
    "scrolled": true,
    "vscode": {
     "languageId": "r"
    }
   },
   "outputs": [],
   "source": [
    "GO2Symbol.bp <- annFUN.org(\"BP\", mapping = \"org.Hs.eg.db\", ID = \"symbol\")\n",
    "symbol2GO.bp <- inverseList(GO2Symbol.bp)"
   ]
  },
  {
   "cell_type": "markdown",
   "id": "0d8e2003-a542-4b79-a229-59aa3861efdb",
   "metadata": {},
   "source": [
    "Now load the following function in R:"
   ]
  },
  {
   "cell_type": "code",
   "execution_count": null,
   "id": "d2c5dd43-f780-4789-ad95-ba24ea9af07e",
   "metadata": {
    "scrolled": true,
    "vscode": {
     "languageId": "r"
    }
   },
   "outputs": [],
   "source": [
    "runtopGO <- function(x=background, y=interesting, ...){\n",
    "\tgeneList <- factor(as.integer(x %in% y))\n",
    "\tnames(geneList) = toupper(x)\n",
    "\tGOdata.bp <- new(\"topGOdata\", ontology = \"BP\", allGenes = geneList, \tgeneSel = geneList, annot = annFUN.gene2GO, gene2GO = symbol2GO.bp)\n",
    "\tresultFisher = runTest(GOdata.bp, algorithm=\"classic\", \tstatistic=\"fisher\")  \n",
    "\tenrichRes.bp <- GenTable(GOdata.bp, classic = resultFisher, orderBy = \t\"classic\", ranksOf = \"fisher\", topNodes = length(score(resultFisher)))\n",
    "\tenrichRes.bp <- enrichRes.bp[which(enrichRes.bp$Annotated>10 & \tenrichRes.bp$Annotated<=50 & enrichRes.bp$Significant>=3),]\n",
    "\tadjP <- p.adjust(enrichRes.bp$classic,\"BH\")\n",
    "\tenrichRes.bp <- cbind(enrichRes.bp, adjP)\n",
    "\tenrichRes.bp <- enrichRes.bp[order(enrichRes.bp$adjP),]\n",
    "\tenrichRes.bp[which(enrichRes.bp$adjP<0.15),]\n",
    "}"
   ]
  },
  {
   "cell_type": "markdown",
   "id": "4a152e5f-c43a-4b2f-a3a1-74f483742f0b",
   "metadata": {},
   "source": [
    "This function checks for enrichment of GO terms in a list of with the topGO package. The input is a vector of \"interesting\" genes compared to a \"background\" gene list. We will define the latter based on the genes we ran our network models on:"
   ]
  },
  {
   "cell_type": "code",
   "execution_count": null,
   "id": "e4ff20c0-e0e7-4fab-9894-df0ed43f0301",
   "metadata": {
    "scrolled": true,
    "vscode": {
     "languageId": "r"
    }
   },
   "outputs": [],
   "source": [
    "background <- row.names(indegrees)"
   ]
  },
  {
   "cell_type": "markdown",
   "id": "9b268502-2bbc-42f9-9174-789b3d92c94d",
   "metadata": {},
   "source": [
    "*Note:* The function above also includes some thresholds that we defined for the purpose of this tutorial. Basically, we filter all GO terms based on gene set size (we only look into gene sets of 10-50 genes, as often smaller/larger gene sets are very specific/general and less informative). We only select gene sets that include at least 3 genes from our \"interesting\" list. Finally, we use an FDR (adjP) threshold of 0.15. While the most widely used p-value threshold is probably 0.05, FDRs can generally be a bit higher. Basically, an FDR of 15% means that you expect 85% of your genes to be true positives. Such thresholds are again dependent on the research question of interest and how/whether you plan to validate your results.\n",
    "\n",
    "Of course, if you are familiar with the code, feel free to update this function, adding parameters that allow you to change these thresholds, and then test various thresholds to see how it would affect your results.\n",
    "\n",
    "**Q40.** Take the top 25 genes that have higher targeting in the recurrent samples and input this as run topGO with the code above. What terms are significant with FDR<0.15?"
   ]
  },
  {
   "cell_type": "code",
   "execution_count": null,
   "id": "b343e76d-fb75-400d-b074-7206aa135687",
   "metadata": {
    "scrolled": true,
    "vscode": {
     "languageId": "r"
    }
   },
   "outputs": [],
   "source": [
    "topgenes_recur <- row.names(toptable[which(toptable$Degree_diff>0),])[1:25]\n",
    "runtopGO(x=background, y=topgenes_recur)"
   ]
  },
  {
   "cell_type": "markdown",
   "id": "94969143-cc5c-4626-9672-80b019023542",
   "metadata": {},
   "source": [
    "**Q41.** Do the same for genes that have higher targeting in the primary samples. What GO terms are significant? Do you think these are relevant in the context of cancer? If the \"Term\" is not complete, feel free to search for the GO.ID online to get more information on the specific GO term."
   ]
  },
  {
   "cell_type": "code",
   "execution_count": null,
   "id": "5cb61e78-0790-45e1-99fe-29ea837afa1d",
   "metadata": {
    "scrolled": true,
    "vscode": {
     "languageId": "r"
    }
   },
   "outputs": [],
   "source": [
    "topgenes_prim <- row.names(toptable[which(toptable$Degree_diff<0),])[1:25]\n",
    "runtopGO(x=background, y=topgenes_prim)"
   ]
  },
  {
   "cell_type": "markdown",
   "id": "d0026ced-5662-4269-9731-b87c4077391d",
   "metadata": {},
   "source": [
    "Congratulations, you have made it to the end of this module! If you find you have time to spare, feel free to further explore the LIONESS networks, for example by comparing TF out-degrees or edge weights."
   ]
  }
 ],
 "metadata": {
  "kernelspec": {
   "display_name": "R",
   "language": "R",
   "name": "ir"
  },
  "language_info": {
   "codemirror_mode": "r",
   "file_extension": ".r",
   "mimetype": "text/x-r-source",
   "name": "R",
   "pygments_lexer": "r",
   "version": "4.3.2"
  }
 },
 "nbformat": 4,
 "nbformat_minor": 5
}
