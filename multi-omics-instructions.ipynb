{
 "cells": [
  {
   "cell_type": "markdown",
   "metadata": {},
   "source": [
    "# Setting up for today's workshop\n",
    "\n",
    "## Copy files to your home directory\n",
    "There are two files you need to copy to your home directory for today's workshop. You can do so with the following code. To launch a terminal, go to `File > New > Terminal`"
   ]
  },
  {
   "cell_type": "code",
   "execution_count": null,
   "metadata": {},
   "outputs": [],
   "source": [
    "cp /opt/home/panda-lioness/input_data.RData /opt/home/panda-lioness/multi-omics_workshop.ipynb ~\n",
    "\n",
    "# make sure you are in your home directory before starting the workshop\n",
    "cd ~"
   ]
  },
  {
   "cell_type": "markdown",
   "metadata": {},
   "source": [
    "### 2. Open the notebook\n",
    "Open the newly copied notebook and start coding! :)\n",
    "\n",
    "*Hint: Making extra code cells when you have to write a lot of code can help!* "
   ]
  }
 ],
 "metadata": {
  "language_info": {
   "name": "python"
  }
 },
 "nbformat": 4,
 "nbformat_minor": 2
}
