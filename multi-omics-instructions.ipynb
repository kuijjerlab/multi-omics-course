{
 "cells": [
  {
   "cell_type": "markdown",
   "metadata": {},
   "source": [
    "# Setting up for today's workshop\n",
    "\n",
    "## 1. Copy files to your home directory\n",
    "There are two files you need to copy to your home directory for today's workshop. You can do so by opening a terminal and using the following code. To launch a terminal, go to `File > New > Terminal`"
   ]
  },
  {
   "cell_type": "code",
   "execution_count": null,
   "metadata": {},
   "outputs": [],
   "source": [
    "cp /opt/home/panda-lioness/input_data.RData /opt/home/panda-lioness/multi-omics_workshop.ipynb ~\n",
    "\n",
    "# make sure you are in your home directory before starting the workshop\n",
    "cd ~"
   ]
  },
  {
   "cell_type": "markdown",
   "metadata": {},
   "source": [
    "**input_data.RData** contains all the data that we will need for today's workshop.\n",
    "\n",
    "**multi-omics_workshop.ipynb** is a Jupyter notebook where we will be working today. The notebook has some text giving context to the analysis we will be doing today, as well as some empty code cells for you to fill out. If you're unfamiliar with using Jupyter notebooks, you can check the guide on Canvas. "
   ]
  },
  {
   "cell_type": "markdown",
   "metadata": {},
   "source": [
    "## 2. Open the notebook\n",
    "Open the newly copied notebook and start coding! :) You should work directly in the notebook itself.\n"
   ]
  }
 ],
 "metadata": {
  "language_info": {
   "name": "python"
  }
 },
 "nbformat": 4,
 "nbformat_minor": 2
}
