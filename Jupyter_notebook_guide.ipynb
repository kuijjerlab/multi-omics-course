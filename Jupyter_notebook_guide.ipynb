{
 "cells": [
  {
   "cell_type": "markdown",
   "metadata": {},
   "source": [
    "# A simple guide to Jupyter notebooks and Jupyter Lab\n",
    "\n",
    "Author: Romana T. Pop\n",
    "\n",
    "Jupyter notebooks are a convenient way of combining text (in markdown format) and code, similar to R Markdown notebooks. This is a simple guide to using Jupyter notebooks in Jupyter Lab. "
   ]
  },
  {
   "cell_type": "markdown",
   "metadata": {},
   "source": [
    "### Creating a notebook or opening an existing notebook\n",
    "There are two ways to create a notebook. The first is by going to `File > New > Notebook`. \n",
    "\n",
    "![image.png](Images/image-1.png)\n",
    "\n",
    "Jupyter Lab will then prompt you to select the kernel you want to use for your notebook. This determines what programming language the code chunks will use. In our case, we will choose an R kernel.\n",
    "\n",
    "You can also change the kernel at any time from the `Kernel` tab.\n",
    "\n",
    "![image-2.png](Images/image-2.png)\n",
    "\n",
    "The second option is to use the launcher.\n",
    "\n",
    "![image-3.png](Images/image-3.png)\n",
    "\n",
    "All existing notebooks will appear in the file browser sidebar along with any other files you have in the current folder. If you cannot see the file browser, you can open it by clicking on the folder icon in the upper left corner. To open a notebook, simply double click on it in the file browser.\n",
    "\n",
    "![image-4.png](Images/image-4.png)"
   ]
  },
  {
   "cell_type": "markdown",
   "metadata": {},
   "source": [
    "### Creating and running cells\n",
    "\n",
    "In order to write anything in a Jupyter notebook, you must first create a cell. There are three types of cells: markdown cells, which recognise standard markdown syntax and when run, they will convert markdown code into formatted text. Code cells, which will recognise and run code depending on the kernel selected (in our case, R code). Finally, there are raw text cells, which will simply print raw text. \n",
    "\n",
    "To create a new cell, use the \"+\" button in the top left.\n",
    "\n",
    "![image-5.png](Images/image-5.png)\n",
    "\n",
    "You can choose the type of cell you want to use from the dropdown. A cell's type can be changed at any time. \n",
    "\n",
    "![image-6.png](Images/image-6.png)\n",
    "\n",
    "To run a cell, press the \"Play\" button or use `Shift + Enter`. The output of code cells will be printed underneath their respective cells.\n",
    "\n",
    "![image-7.png](Images/image-7.png)\n",
    "\n",
    "You can run the entire notebook by pressing the fast-forward button. This is also a good way to refresh the notebook if there are any issues, as it will also restart the kernel.\n",
    "\n",
    "![image-10](Images/image-10.png)\n",
    "\n",
    "A blue bar on the left of the cell indicates that the cell is currently selected. When creating a code cell, square brackets will appear on the left side of the cell. When a cell is running, the brackets will contain a \"*\".\n",
    "\n",
    "![image-8](Images/image-8.png)\n",
    "\n",
    "When the code finishes running, a number will replace the \"*\". This indicates how many code cells have run.\n",
    "\n",
    "![image-9](Images/image-9.png)\n",
    "\n",
    "To clear the output of a code cell, you can select it and right click on it, then select `Clear cell output`. To clear the output of all cells, right click anywhere on the notebook and select `Clear output of all cells`."
   ]
  }
 ],
 "metadata": {
  "language_info": {
   "name": "python"
  }
 },
 "nbformat": 4,
 "nbformat_minor": 2
}
